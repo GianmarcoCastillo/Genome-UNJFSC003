%matplotlib inline
import matplotlib.pyplot as plt
import csv
import pandas as pd
data_path = "dataset/prosito.csv"
prosito_csv = pd.read_csv(data_path)
prosito_csv
subsystem = prosito_csv.Subsystem
subsystem
count = prosito_csv.Count
count
plt.plot(subsystem,count,color='red')

xtitle = "Subsystem"
ytitle = "Count"

labels = subsystem
sizes = count


colors = ['red','lime','blue','yellow','pink','green','orange','lightpink','indigo','coral','gold','lightgreen','aquamarine',
         'slateblue','olive','cyan','fuchsia','darkorange','maroon','seagreen','thistle', 'peru', 'plum','turquoise',
         'crimson'] #27 colores 
explode = (0.7,0.8,0.9,0.6,0.36,0.41,0.51,0.68,0.65,0.87,0.76,0.62,0.6,0.8,0.53,0.66,0.37,0.67,0.99,0.76,0.71,0.88,0.67,0.65,0.7)

plt.pie(sizes,labels=labels,explode=explode,autopct='%1.2f%%', shadow=True, colors=colors)
plt.axis('equal')
plt.legend(title='Subsystem Feature Counts', loc='upper right', bbox_to_anchor=(1.69,0.3,0.5,1))
plt.title('Subsystem Category Distribution', fontname="Times New Roman", size=20,fontweight="bold")
plt.savefig("SubSystem Category Distribution.pdf",dpi=700)
plt.show()
